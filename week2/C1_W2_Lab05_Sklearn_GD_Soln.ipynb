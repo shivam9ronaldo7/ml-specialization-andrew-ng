{
  "cells": [
    {
      "cell_type": "markdown",
      "metadata": {
        "id": "view-in-github",
        "colab_type": "text"
      },
      "source": [
        "<a href=\"https://colab.research.google.com/github/shivam9ronaldo7/ml-specialization-andrew-ng/blob/main/week2/C1_W2_Lab05_Sklearn_GD_Soln.ipynb\" target=\"_parent\"><img src=\"https://colab.research.google.com/assets/colab-badge.svg\" alt=\"Open In Colab\"/></a>"
      ]
    },
    {
      "cell_type": "markdown",
      "source": [
        "# Google Collab Specific Changes"
      ],
      "metadata": {
        "id": "8q1AoFD7lzWQ"
      },
      "id": "8q1AoFD7lzWQ"
    },
    {
      "cell_type": "code",
      "source": [
        "import os\n",
        "\n",
        "if os.getenv(\"COLAB_RELEASE_TAG\"):\n",
        "    print(\"Running in Google Colab\")\n",
        "    !git clone https://github.com/shivam9ronaldo7/ml-specialization-andrew-ng.git\n",
        "    pwd = !pwd\n",
        "    print(\"Pwd: {}\".format(pwd))\n",
        "    %cd ml-specialization-andrew-ng/week2/\n",
        "    pwd = !pwd\n",
        "    print(\"Pwd: {}\".format(pwd))\n",
        "else:\n",
        "   print(\"Not in Google Colab\")"
      ],
      "metadata": {
        "id": "-2X18AxYl3V9",
        "outputId": "465b8b68-e5b5-419c-dc5c-5773f20a491a",
        "colab": {
          "base_uri": "https://localhost:8080/"
        }
      },
      "id": "-2X18AxYl3V9",
      "execution_count": 1,
      "outputs": [
        {
          "output_type": "stream",
          "name": "stdout",
          "text": [
            "Running in Google Colab\n",
            "Cloning into 'ml-specialization-andrew-ng'...\n",
            "remote: Enumerating objects: 129, done.\u001b[K\n",
            "remote: Counting objects: 100% (129/129), done.\u001b[K\n",
            "remote: Compressing objects: 100% (117/117), done.\u001b[K\n",
            "remote: Total 129 (delta 50), reused 61 (delta 10), pack-reused 0 (from 0)\u001b[K\n",
            "Receiving objects: 100% (129/129), 5.77 MiB | 18.93 MiB/s, done.\n",
            "Resolving deltas: 100% (50/50), done.\n",
            "Pwd: ['/content']\n",
            "/content/ml-specialization-andrew-ng/week2\n",
            "Pwd: ['/content/ml-specialization-andrew-ng/week2']\n"
          ]
        }
      ]
    },
    {
      "cell_type": "markdown",
      "metadata": {
        "id": "mSLpdCRHlyts"
      },
      "source": [
        "# Optional Lab: Linear Regression using Scikit-Learn"
      ],
      "id": "mSLpdCRHlyts"
    },
    {
      "cell_type": "markdown",
      "metadata": {
        "id": "91OIHfwFlytt"
      },
      "source": [
        "There is an open-source, commercially usable machine learning toolkit called [scikit-learn](https://scikit-learn.org/stable/index.html). This toolkit contains implementations of many of the algorithms that you will work with in this course.\n",
        "\n"
      ],
      "id": "91OIHfwFlytt"
    },
    {
      "cell_type": "markdown",
      "metadata": {
        "id": "gNavSQdElytu"
      },
      "source": [
        "## Goals\n",
        "In this lab you will:\n",
        "- Utilize  scikit-learn to implement linear regression using Gradient Descent"
      ],
      "id": "gNavSQdElytu"
    },
    {
      "cell_type": "markdown",
      "metadata": {
        "id": "1h8sGO4Plytu"
      },
      "source": [
        "## Tools\n",
        "You will utilize functions from scikit-learn as well as matplotlib and NumPy."
      ],
      "id": "1h8sGO4Plytu"
    },
    {
      "cell_type": "code",
      "execution_count": 2,
      "metadata": {
        "id": "M6yaOnGulytu"
      },
      "outputs": [],
      "source": [
        "import numpy as np\n",
        "import matplotlib.pyplot as plt\n",
        "from sklearn.linear_model import SGDRegressor\n",
        "from sklearn.preprocessing import StandardScaler\n",
        "from lab_utils_multi import  load_house_data\n",
        "from lab_utils_common import dlc\n",
        "np.set_printoptions(precision=2)\n",
        "plt.style.use('./deeplearning.mplstyle')"
      ],
      "id": "M6yaOnGulytu"
    },
    {
      "cell_type": "markdown",
      "metadata": {
        "id": "JYQ6SMYrlytu"
      },
      "source": [
        "# Gradient Descent\n",
        "Scikit-learn has a gradient descent regression model [sklearn.linear_model.SGDRegressor](https://scikit-learn.org/stable/modules/generated/sklearn.linear_model.SGDRegressor.html#examples-using-sklearn-linear-model-sgdregressor).  Like your previous implementation of gradient descent, this model performs best with normalized inputs. [sklearn.preprocessing.StandardScaler](https://scikit-learn.org/stable/modules/generated/sklearn.preprocessing.StandardScaler.html#sklearn.preprocessing.StandardScaler) will perform z-score normalization as in a previous lab. Here it is referred to as 'standard score'."
      ],
      "id": "JYQ6SMYrlytu"
    },
    {
      "cell_type": "markdown",
      "metadata": {
        "id": "GUv2IgI9lytv"
      },
      "source": [
        "### Load the data set"
      ],
      "id": "GUv2IgI9lytv"
    },
    {
      "cell_type": "code",
      "execution_count": 3,
      "metadata": {
        "id": "qtJGvQRplytv"
      },
      "outputs": [],
      "source": [
        "X_train, y_train = load_house_data()\n",
        "X_features = ['size(sqft)','bedrooms','floors','age']"
      ],
      "id": "qtJGvQRplytv"
    },
    {
      "cell_type": "markdown",
      "metadata": {
        "id": "MlF6IKEZlytv"
      },
      "source": [
        "### Scale/normalize the training data"
      ],
      "id": "MlF6IKEZlytv"
    },
    {
      "cell_type": "code",
      "execution_count": 4,
      "metadata": {
        "id": "0bLWSB_Vlytv",
        "outputId": "c3bd4901-411d-4bc8-f7fb-fc264e607a7b",
        "colab": {
          "base_uri": "https://localhost:8080/"
        }
      },
      "outputs": [
        {
          "output_type": "stream",
          "name": "stdout",
          "text": [
            "Peak to Peak range by column in Raw        X:[2.41e+03 4.00e+00 1.00e+00 9.50e+01]\n",
            "Peak to Peak range by column in Normalized X:[5.85 6.14 2.06 3.69]\n"
          ]
        }
      ],
      "source": [
        "scaler = StandardScaler()\n",
        "X_norm = scaler.fit_transform(X_train)\n",
        "print(f\"Peak to Peak range by column in Raw        X:{np.ptp(X_train,axis=0)}\")\n",
        "print(f\"Peak to Peak range by column in Normalized X:{np.ptp(X_norm,axis=0)}\")"
      ],
      "id": "0bLWSB_Vlytv"
    },
    {
      "cell_type": "markdown",
      "metadata": {
        "id": "ZycgmgsQlytw"
      },
      "source": [
        "### Create and fit the regression model"
      ],
      "id": "ZycgmgsQlytw"
    },
    {
      "cell_type": "code",
      "execution_count": 5,
      "metadata": {
        "id": "Rr19BACtlytw",
        "outputId": "08a0ab1b-b39d-448a-b8d5-4801fed32f3a",
        "colab": {
          "base_uri": "https://localhost:8080/"
        }
      },
      "outputs": [
        {
          "output_type": "stream",
          "name": "stdout",
          "text": [
            "SGDRegressor()\n",
            "number of iterations completed: 143, number of weight updates: 14158.0\n"
          ]
        }
      ],
      "source": [
        "sgdr = SGDRegressor(max_iter=1000)\n",
        "sgdr.fit(X_norm, y_train)\n",
        "print(sgdr)\n",
        "print(f\"number of iterations completed: {sgdr.n_iter_}, number of weight updates: {sgdr.t_}\")"
      ],
      "id": "Rr19BACtlytw"
    },
    {
      "cell_type": "markdown",
      "metadata": {
        "id": "eroWVoV8lytw"
      },
      "source": [
        "### View parameters\n",
        "Note, the parameters are associated with the *normalized* input data. The fit parameters are very close to those found in the previous lab with this data."
      ],
      "id": "eroWVoV8lytw"
    },
    {
      "cell_type": "code",
      "execution_count": 6,
      "metadata": {
        "id": "rl8mPE1mlytw",
        "outputId": "cb1baab4-694c-47a0-964c-81196c6a9be5",
        "colab": {
          "base_uri": "https://localhost:8080/"
        }
      },
      "outputs": [
        {
          "output_type": "stream",
          "name": "stdout",
          "text": [
            "model parameters:                   w: [110.37 -21.12 -32.54 -38.01], b:[363.18]\n",
            "model parameters from previous lab: w: [110.56 -21.27 -32.71 -37.97], b: 363.16\n"
          ]
        }
      ],
      "source": [
        "b_norm = sgdr.intercept_\n",
        "w_norm = sgdr.coef_\n",
        "print(f\"model parameters:                   w: {w_norm}, b:{b_norm}\")\n",
        "print( \"model parameters from previous lab: w: [110.56 -21.27 -32.71 -37.97], b: 363.16\")"
      ],
      "id": "rl8mPE1mlytw"
    },
    {
      "cell_type": "markdown",
      "metadata": {
        "id": "FZ3U_uGJlytw"
      },
      "source": [
        "### Make predictions\n",
        "Predict the targets of the training data. Use both the `predict` routine and compute using $w$ and $b$."
      ],
      "id": "FZ3U_uGJlytw"
    },
    {
      "cell_type": "code",
      "execution_count": 7,
      "metadata": {
        "id": "YFDbeAI4lytx",
        "outputId": "27ed5517-0298-47cf-cb28-1db4a38ba6d2",
        "colab": {
          "base_uri": "https://localhost:8080/"
        }
      },
      "outputs": [
        {
          "output_type": "stream",
          "name": "stdout",
          "text": [
            "prediction using np.dot() and sgdr.predict match: True\n",
            "Prediction on training set:\n",
            "[295.16 486.06 389.67 492.23]\n",
            "Target values \n",
            "[300.  509.8 394.  540. ]\n"
          ]
        }
      ],
      "source": [
        "# make a prediction using sgdr.predict()\n",
        "y_pred_sgd = sgdr.predict(X_norm)\n",
        "# make a prediction using w,b.\n",
        "y_pred = np.dot(X_norm, w_norm) + b_norm\n",
        "print(f\"prediction using np.dot() and sgdr.predict match: {(y_pred == y_pred_sgd).all()}\")\n",
        "\n",
        "print(f\"Prediction on training set:\\n{y_pred[:4]}\" )\n",
        "print(f\"Target values \\n{y_train[:4]}\")"
      ],
      "id": "YFDbeAI4lytx"
    },
    {
      "cell_type": "markdown",
      "metadata": {
        "id": "oU2zGK5Glytx"
      },
      "source": [
        "### Plot Results\n",
        "Let's plot the predictions versus the target values."
      ],
      "id": "oU2zGK5Glytx"
    },
    {
      "cell_type": "code",
      "execution_count": 8,
      "metadata": {
        "id": "_88MBwHmlytx",
        "outputId": "5f2e6b78-416a-4a79-893a-4be8def58ad7",
        "colab": {
          "base_uri": "https://localhost:8080/",
          "height": 345
        }
      },
      "outputs": [
        {
          "output_type": "display_data",
          "data": {
            "text/plain": [
              "<Figure size 1200x300 with 4 Axes>"
            ],
            "image/png": "[encoded data removed]"
          },
          "metadata": {}
        }
      ],
      "source": [
        "# plot predictions and targets vs original features\n",
        "fig,ax=plt.subplots(1,4,figsize=(12,3),sharey=True)\n",
        "for i in range(len(ax)):\n",
        "    ax[i].scatter(X_train[:,i],y_train, label = 'target')\n",
        "    ax[i].set_xlabel(X_features[i])\n",
        "    ax[i].scatter(X_train[:,i],y_pred,color=dlc[\"dlorange\"], label = 'predict')\n",
        "ax[0].set_ylabel(\"Price\"); ax[0].legend();\n",
        "fig.suptitle(\"target versus prediction using z-score normalized model\")\n",
        "plt.show()"
      ],
      "id": "_88MBwHmlytx"
    },
    {
      "cell_type": "markdown",
      "metadata": {
        "id": "nAnqMZTYlytx"
      },
      "source": [
        "## Congratulations!\n",
        "In this lab you:\n",
        "- utilized an open-source machine learning toolkit, scikit-learn\n",
        "- implemented linear regression using gradient descent and feature normalization from that toolkit"
      ],
      "id": "nAnqMZTYlytx"
    },
    {
      "cell_type": "code",
      "execution_count": 8,
      "metadata": {
        "id": "oGLnFwUqlytx"
      },
      "outputs": [],
      "source": [],
      "id": "oGLnFwUqlytx"
    }
  ],
  "metadata": {
    "kernelspec": {
      "display_name": "Python 3",
      "language": "python",
      "name": "python3"
    },
    "language_info": {
      "codemirror_mode": {
        "name": "ipython",
        "version": 3
      },
      "file_extension": ".py",
      "mimetype": "text/x-python",
      "name": "python",
      "nbconvert_exporter": "python",
      "pygments_lexer": "ipython3",
      "version": "3.8.10"
    },
    "colab": {
      "provenance": [],
      "include_colab_link": true
    }
  },
  "nbformat": 4,
  "nbformat_minor": 5
}