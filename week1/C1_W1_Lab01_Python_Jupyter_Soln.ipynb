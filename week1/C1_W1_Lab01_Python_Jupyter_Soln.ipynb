{
  "cells": [
    {
      "cell_type": "markdown",
      "metadata": {
        "id": "view-in-github",
        "colab_type": "text"
      },
      "source": [
        "<a href=\"https://colab.research.google.com/github/shivam9ronaldo7/ml-specialization-andrew-ng/blob/main/week1/C1_W1_Lab01_Python_Jupyter_Soln.ipynb\" target=\"_parent\"><img src=\"https://colab.research.google.com/assets/colab-badge.svg\" alt=\"Open In Colab\"/></a>"
      ]
    },
    {
      "cell_type": "markdown",
      "metadata": {
        "id": "y22ZUfdkdvBa"
      },
      "source": [
        "# Optional Lab:  Brief Introduction to Python and Jupyter Notebooks\n",
        "Welcome to the first optional lab!\n",
        "Optional labs are available to:\n",
        "- provide information - like this notebook\n",
        "- reinforce lecture material with hands-on examples\n",
        "- provide working examples of routines used in the graded labs"
      ],
      "id": "y22ZUfdkdvBa"
    },
    {
      "cell_type": "markdown",
      "metadata": {
        "id": "RKQZ9YdYdvBc"
      },
      "source": [
        "## Goals\n",
        "In this lab, you will:\n",
        "- Get a brief introduction to Jupyter notebooks\n",
        "- Take a tour of Jupyter notebooks\n",
        "- Learn the difference between markdown cells and code cells\n",
        "- Practice some basic python\n"
      ],
      "id": "RKQZ9YdYdvBc"
    },
    {
      "cell_type": "markdown",
      "metadata": {
        "id": "lCqrrJjFdvBc"
      },
      "source": [
        "The easiest way to become familiar with Jupyter notebooks is to take the tour available above in the Help menu:"
      ],
      "id": "lCqrrJjFdvBc"
    },
    {
      "cell_type": "markdown",
      "metadata": {
        "id": "9SsYDntydvBd"
      },
      "source": [
        "<figure>\n",
        "    <center> <img src=\"https://github.com/shivam9ronaldo7/ml-specialization-andrew-ng/blob/main/week1/images/C1W1L1_Tour.PNG?raw=1\"  alt='missing' width=\"400\"  ><center/>\n",
        "<figure/>"
      ],
      "id": "9SsYDntydvBd"
    },
    {
      "cell_type": "markdown",
      "metadata": {
        "id": "lJaWYetodvBd"
      },
      "source": [
        "Jupyter notebooks have two types of cells that are used in this course. Cells such as this which contain documentation called `Markdown Cells`. The name is derived from the simple formatting language used in the cells. You will not be required to produce markdown cells. Its useful to understand the `cell pulldown` shown in graphic below. Occasionally, a cell will end up in the wrong mode and you may need to restore it to the right state:"
      ],
      "id": "lJaWYetodvBd"
    },
    {
      "cell_type": "markdown",
      "metadata": {
        "id": "cTdjiO9advBd"
      },
      "source": [
        "<figure>\n",
        "   <img src=\"https://github.com/shivam9ronaldo7/ml-specialization-andrew-ng/blob/main/week1/images/C1W1L1_Markdown.PNG?raw=1\"  alt='missing' width=\"400\"  >\n",
        "<figure/>"
      ],
      "id": "cTdjiO9advBd"
    },
    {
      "cell_type": "markdown",
      "metadata": {
        "id": "NCSttz2xdvBd"
      },
      "source": [
        "The other type of cell is the `code cell` where you will write your code:"
      ],
      "id": "NCSttz2xdvBd"
    },
    {
      "cell_type": "code",
      "execution_count": 1,
      "metadata": {
        "id": "STb86ILedvBe",
        "outputId": "367888b4-efad-4bd7-fe40-184d26562059",
        "colab": {
          "base_uri": "https://localhost:8080/"
        }
      },
      "outputs": [
        {
          "output_type": "stream",
          "name": "stdout",
          "text": [
            "This is  code cell\n"
          ]
        }
      ],
      "source": [
        "#This is  a 'Code' Cell\n",
        "print(\"This is  code cell\")"
      ],
      "id": "STb86ILedvBe"
    },
    {
      "cell_type": "markdown",
      "metadata": {
        "id": "YLAFJCD3dvBf"
      },
      "source": [
        "## Python\n",
        "You can write your code in the code cells.\n",
        "To run the code, select the cell and either\n",
        "- hold the shift-key down and hit 'enter' or 'return'\n",
        "- click the 'run' arrow above\n",
        "<figure>\n",
        "    <img src=\"https://github.com/shivam9ronaldo7/ml-specialization-andrew-ng/blob/main/week1/images/C1W1L1_Run.PNG?raw=1\"  width=\"400\"  >\n",
        "<figure/>\n",
        "\n",
        ""
      ],
      "id": "YLAFJCD3dvBf"
    },
    {
      "cell_type": "markdown",
      "metadata": {
        "id": "pSUC2Yd6dvBf"
      },
      "source": [
        "### Print statement\n",
        "Print statements will generally use the python f-string style.  \n",
        "Try creating your own print in the following cell.  \n",
        "Try both methods of running the cell."
      ],
      "id": "pSUC2Yd6dvBf"
    },
    {
      "cell_type": "code",
      "execution_count": 2,
      "metadata": {
        "id": "19Pr_PusdvBg",
        "outputId": "a34693b2-26ea-4f57-b13c-096cf23c7996",
        "colab": {
          "base_uri": "https://localhost:8080/"
        }
      },
      "outputs": [
        {
          "output_type": "stream",
          "name": "stdout",
          "text": [
            "f strings allow you to embed variables right in the strings!\n"
          ]
        }
      ],
      "source": [
        "# print statements\n",
        "variable = \"right in the strings!\"\n",
        "print(f\"f strings allow you to embed variables {variable}\")"
      ],
      "id": "19Pr_PusdvBg"
    },
    {
      "cell_type": "markdown",
      "metadata": {
        "id": "XRf8QxQydvBg"
      },
      "source": [
        "# Congratulations!\n",
        "You now know how to find your way around a Jupyter Notebook."
      ],
      "id": "XRf8QxQydvBg"
    }
  ],
  "metadata": {
    "kernelspec": {
      "display_name": "Python 3",
      "language": "python",
      "name": "python3"
    },
    "language_info": {
      "codemirror_mode": {
        "name": "ipython",
        "version": 3
      },
      "file_extension": ".py",
      "mimetype": "text/x-python",
      "name": "python",
      "nbconvert_exporter": "python",
      "pygments_lexer": "ipython3",
      "version": "3.7.6"
    },
    "colab": {
      "provenance": [],
      "include_colab_link": true
    }
  },
  "nbformat": 4,
  "nbformat_minor": 5
}